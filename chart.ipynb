import pandas as pd
import matplotlib.pyplot as plt
import seaborn as sns
from datetime import datetime
import json
from collections import defaultdict
import numpy as np
import matplotlib.ticker as ticker
import ace_tools as tools

# 讀取 JSON 檔案
with open("/mnt/data/progress.json", "r", encoding="utf-8") as f:
    progress_data = json.load(f)

with open("/mnt/data/projects.json", "r", encoding="utf-8") as f:
    projects_data = json.load(f)

# 將 progress 資料轉為 DataFrame
progress_df = pd.DataFrame(progress_data)

# 轉換日期格式
progress_df["date"] = pd.to_datetime(progress_df["date"])

# 加入項目名稱
project_map = {p["projectCode"]: p["name"] for p in projects_data}
progress_df["projectName"] = progress_df["projectCode"].map(project_map)

# 計算每位員工每日總工時
daily_hours = progress_df.groupby(["reporter", "date"])["workHours"].sum().reset_index()

# 計算每個專案的總工時
project_hours = progress_df.groupby("projectName")["workHours"].sum().reset_index()

# 每日每個專案的總工時趨勢
project_daily_trend = progress_df.groupby(["date", "projectName"])["workHours"].sum().unstack().fillna(0)

# 記錄是否需要協助的次數統計
help_count = progress_df["needHelp"].value_counts().rename(index={"是": "需要協助", "否": "不需協助"})

# 將資料轉為可視化 DataFrame
tools.display_dataframe_to_user("每日工時統計", daily_hours)
tools.display_dataframe_to_user("專案工時統計", project_hours)

# 繪圖：每位員工每日工時
plt.figure(figsize=(10, 6))
sns.lineplot(data=daily_hours, x="date", y="workHours", hue="reporter", marker="o")
plt.title("每位員工每日工時趨勢")
plt.xlabel("日期")
plt.ylabel("工時")
plt.grid(True)
plt.xticks(rotation=45)
plt.tight_layout()
plt.show()

# 繪圖：專案總工時
plt.figure(figsize=(8, 6))
sns.barplot(data=project_hours, x="workHours", y="projectName", palette="viridis")
plt.title("各專案總工時")
plt.xlabel("總工時")
plt.ylabel("專案名稱")
plt.tight_layout()
plt.show()

# 繪圖：每日各專案工時趨勢
project_daily_trend.plot(figsize=(10, 6), marker='o')
plt.title("每日各專案工時趨勢")
plt.xlabel("日期")
plt.ylabel("工時")
plt.grid(True)
plt.xticks(rotation=45)
plt.legend(title="專案名稱")
plt.tight_layout()
plt.show()

# 繪圖：是否需要協助
plt.figure(figsize=(6, 4))
help_count.plot(kind="pie", autopct='%1.1f%%', startangle=90, colors=sns.color_palette("pastel"))
plt.title("需協助與否比例")
plt.ylabel("")
plt.tight_layout()
plt.show()
